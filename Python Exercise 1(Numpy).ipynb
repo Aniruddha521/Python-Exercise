{
 "cells": [
  {
   "cell_type": "markdown",
   "id": "752a4879",
   "metadata": {
    "deletable": false
   },
   "source": [
    "# Objectives\n",
    "  In this Exercise you will given some basic questions which you must known."
   ]
  },
  {
   "cell_type": "code",
   "execution_count": 1,
   "id": "f4f6741a",
   "metadata": {
    "deletable": false,
    "editable": false
   },
   "outputs": [],
   "source": [
    "# Import all required libaries\n",
    "import numpy as np"
   ]
  },
  {
   "cell_type": "markdown",
   "id": "abb8bfbf",
   "metadata": {
    "deletable": false
   },
   "source": [
    "\n",
    "# Exercise\n",
    "- [1 Create an empty and a full NumPy array](#1.1)\n",
    "- [2 Flatten a 2d numpy array into 1d array](#1.2)\n",
    "- [3 Create a Numpy array filled with all zeros/Ones](#1.3)\n",
    "- [4 Change data type of given numpy array](#1.4)\n",
    "- [5 Make a NumPy array read-only](#1.5)\n",
    "- [6 Reverse a numpy array](#1.6)\n",
    "- [7 Replace NaN values with average of columns](#1.7)\n",
    "\n",
    "That's it! Hope you can solve it all by your own if you face problem then click `Hints`\n",
    "> The term `ndarray` has be used in this exercise it simply means an array of length n"
   ]
  },
  {
   "cell_type": "markdown",
   "id": "19a76d0a",
   "metadata": {
    "deletable": false
   },
   "source": [
    "<a name=\"1.1\"></a>\n",
    "### 1 Create an empty and a full NumPy array"
   ]
  },
  {
   "cell_type": "code",
   "execution_count": null,
   "id": "5e1f3a06",
   "metadata": {},
   "outputs": [],
   "source": [
    "# create an empty array\n",
    "\n",
    "\n",
    "# create an filled array\n",
    "\n"
   ]
  },
  {
   "cell_type": "markdown",
   "id": "0a14ab73",
   "metadata": {
    "deletable": false
   },
   "source": [
    "<details>\n",
    "  <summary><font size=\"3\" color=\"darkgreen\"><b>Hints</b></font></summary>\n",
    "       \n",
    "   * `numpy` has a function called [`np.empty()`](https://numpy.org/doc/stable/reference/generated/numpy.empty.html), which offers a convinient way to make an empty array(each element is zero) of any shape.\n",
    "   * `numpy` has a function called [`np.full()`](https://numpy.org/doc/stable/reference/generated/numpy.full.html), which offers a convinient way to make an filled array of any shape.\n",
    "  >Note we can create an array of a certain range with a certain space between each element by using [`np.arange()`](https://numpy.org/doc/stable/reference/generated/numpy.arange.html)\n",
    "</details>"
   ]
  },
  {
   "cell_type": "markdown",
   "id": "bac54f5b",
   "metadata": {
    "deletable": false
   },
   "source": [
    "<a name=\"1.2\"></a>\n",
    "### 2 Flatten a 2d numpy array into 1d array"
   ]
  },
  {
   "cell_type": "code",
   "execution_count": null,
   "id": "c103f7de",
   "metadata": {},
   "outputs": [],
   "source": [
    "# Convert the given 2D array in 1D array\n",
    "arr=np.array[[1,2,3],[4,5,6],[7,8,9],[10,11,12]]\n",
    "\n",
    "print(arr)\n",
    "print(arr.shape)"
   ]
  },
  {
   "cell_type": "markdown",
   "id": "53e10eb1",
   "metadata": {},
   "source": [
    "<details>\n",
    "  <summary><font size=\"3\" color=\"darkgreen\"><b>Hints</b></font></summary>\n",
    "       \n",
    "   * `numpy` has a function called `flatten` which can be written as [`ndarray.flatten()`](https://numpy.org/doc/stable/reference/generated/numpy.ndarray.flatten.html), which is used to flatten an 2D array to 1D array.\n",
    "</details>"
   ]
  },
  {
   "cell_type": "markdown",
   "id": "5f0f79be",
   "metadata": {},
   "source": [
    "<a name=\"1.3\"></a>\n",
    "### 3 Create a Numpy array filled with all zeros/Ones"
   ]
  },
  {
   "cell_type": "code",
   "execution_count": null,
   "id": "6ba50377",
   "metadata": {},
   "outputs": [],
   "source": [
    "# Create a Numpy array filled with all zeros\n",
    "\n",
    "\n",
    "\n",
    "# Create a Numpy array filled with all Ones\n",
    "\n"
   ]
  },
  {
   "cell_type": "markdown",
   "id": "bd0a09ea",
   "metadata": {},
   "source": [
    "<details>\n",
    "  <summary><font size=\"3\" color=\"darkgreen\"><b>Hints</b></font></summary>\n",
    "       \n",
    "   * `numpy` has a function called [`np.zeros()`](https://numpy.org/doc/stable/reference/generated/numpy.ndarray.zeros.html), which is used to create an array with all elements equal to `0`.\n",
    "   * `numpy` has a function called [`np.ones()`](https://numpy.org/doc/stable/reference/generated/numpy.ones.html), which is used to create an array with all elements equal to `1`.\n",
    "</details>"
   ]
  },
  {
   "cell_type": "markdown",
   "id": "ee3ffe42",
   "metadata": {},
   "source": [
    "<a name=\"1.4\"></a>\n",
    "### 4 Change data type of given numpy array"
   ]
  },
  {
   "cell_type": "code",
   "execution_count": null,
   "id": "429f4b79",
   "metadata": {},
   "outputs": [],
   "source": [
    "# Change data type of given numpy array\n",
    "array=[1,2,3,4,5,6,7,8,9,10]\n",
    "print(arr,arr.dtype)\n",
    "#code here\n",
    "\n",
    "#####\n",
    "print(arr,arr.dtype)"
   ]
  },
  {
   "cell_type": "markdown",
   "id": "f7c6ac22",
   "metadata": {},
   "source": [
    "<details>\n",
    "  <summary><font size=\"3\" color=\"darkgreen\"><b>Hints</b></font></summary>\n",
    "       \n",
    "   * `numpy` has a function called `astype` which can be written like [`ndarray.astype()`](https://numpy.org/doc/stable/reference/generated/numpy.ndarray.astype.html), which is used to change the datatype of the contents.\n",
    "</details>"
   ]
  },
  {
   "cell_type": "markdown",
   "id": "6f8f073c",
   "metadata": {},
   "source": [
    "<a name=\"1.5\"></a>\n",
    "### 5 Make a NumPy array read-only"
   ]
  },
  {
   "cell_type": "code",
   "execution_count": null,
   "id": "719a107a",
   "metadata": {},
   "outputs": [],
   "source": [
    "# Make a NumPy array read-only\n",
    " # before your code\n",
    "arr=np.ones(10)\n",
    "arr[1]=5\n",
    "print(arr)\n",
    "# code to make it read-only\n",
    "\n",
    "\n",
    "\n",
    "# code ends here\n",
    "\n",
    "print(arr)"
   ]
  },
  {
   "cell_type": "markdown",
   "id": "98f0af62",
   "metadata": {},
   "source": [
    "<details>\n",
    "  <summary><font size=\"3\" color=\"darkgreen\"><b>Hints</b></font></summary>\n",
    "       \n",
    "   * `numpy` has a function called `astype` which can be written like [`ndarray.setflags()`](https://numpy.org/doc/stable/reference/generated/numpy.ndarray.setflags.html), by passing `False` to the `write` argument of the mentioned function it will restrict any change in the array.\n",
    "</details>"
   ]
  },
  {
   "cell_type": "markdown",
   "id": "37901fe9",
   "metadata": {},
   "source": [
    "<a name=\"1.6\"></a>\n",
    "### 6 Reverse a numpy array"
   ]
  },
  {
   "cell_type": "code",
   "execution_count": null,
   "id": "f4c6c23b",
   "metadata": {},
   "outputs": [],
   "source": [
    "# Reverse a numpy array\n",
    "arr=np.array([1,2,3,4,5,6,7,8,9])\n",
    "# before reversing\n",
    "print(arr)\n",
    "\n",
    "\n",
    "\n",
    "# after reversing\n",
    "print(arr)"
   ]
  },
  {
   "cell_type": "markdown",
   "id": "d59fd18b",
   "metadata": {},
   "source": [
    "<details>\n",
    "  <summary><font size=\"3\" color=\"darkgreen\"><b>Hints</b></font></summary>\n",
    "    \n",
    "   There are three way you can achive it \n",
    "   * By using [`np.flip()`](https://numpy.org/doc/stable/reference/generated/numpy.flip.html) function \n",
    "   * Or by using [`list slicing`](https://www.geeksforgeeks.org/indexing-in-numpy/) methode\n",
    "   * Or by using [`np.flipud()`](https://numpy.org/doc/stable/reference/generated/numpy.flipud.html) function\n",
    "</details>"
   ]
  },
  {
   "cell_type": "markdown",
   "id": "10bebf03",
   "metadata": {},
   "source": [
    "<a name=\"1.7\"></a>\n",
    "### 7 Replace NaN values with average of columns"
   ]
  },
  {
   "cell_type": "code",
   "execution_count": null,
   "id": "bf3b97aa",
   "metadata": {},
   "outputs": [],
   "source": [
    "# Methode 1:-Using np.colmean and np.take\n",
    " \n",
    "# Initialising numpy array\n",
    "ini_arr = np.array([[1.1, 2.2, 3.3, np.nan],\n",
    "                      [2.3, 3.4, np.nan, 5.5],\n",
    "                      [2.5, np.nan, 5.4, 6.7],\n",
    "                      [np.nan, 3.1, 2.4, 1.6]])\n",
    " \n",
    "# printing initial array\n",
    "print (\"Initial array\", ini_arr)\n",
    "# write code to find column mean \n",
    "\n",
    "\n",
    "## End here\n",
    "print (\"columns mean\",col_mean)\n",
    " \n",
    "# Start code here\n",
    "\n",
    "\n",
    "\n",
    "# End code here\n",
    "\n",
    "\n",
    "# printing final array\n",
    "print (\"final array\", ini_array)"
   ]
  },
  {
   "cell_type": "markdown",
   "id": "62dce270",
   "metadata": {},
   "source": [
    "<details>\n",
    "  <summary><font size=\"3\" color=\"darkgreen\"><b>Hints</b></font></summary>\n",
    "    \n",
    " \n",
    "   * Can find mean of column by using `col_mean = np.nanmean(ini_array, axis = 0)`\n",
    "    <details>\n",
    "          <summary><font size=\"2\" color=\"darkblue\"><b> Click for more hints</b></font></summary>\n",
    "        \n",
    "        * Code\n",
    "        \n",
    "        ```python \n",
    "            col_mean = np.nanmean(ini_arr, axis = 0)\n",
    "        \n",
    "            # find indices where nan value is present\n",
    "            indices = np.where(np.isnan(ini_arr))\n",
    "\n",
    "            # replace inds with avg of column\n",
    "            ini_arr[indices] = np.take(col_mean, indices[1])\n",
    "        ```\n",
    "   </details>\n",
    "</details>"
   ]
  },
  {
   "cell_type": "code",
   "execution_count": null,
   "id": "e626b2fb",
   "metadata": {},
   "outputs": [],
   "source": [
    "# Methode 2:-Using np.ma and np.where \n",
    "\n",
    "# Initialising numpy array \n",
    "ini_arr = np.array([[1.1, 2.2, 3.3, np.nan],\n",
    "                      [2.3, 3.4, np.nan, 5.5],\n",
    "                      [2.5, np.nan, 5.4, 6.7],\n",
    "                      [np.nan, 3.1, 2.4, 1.6]])\n",
    " \n",
    "# printing initial array\n",
    "print (\"Initial array\", ini_arr)\n",
    "# Start code here\n",
    "\n",
    "\n",
    "\n",
    "# End\n",
    "\n",
    "# printing final array\n",
    "print (\"final array\", res)"
   ]
  },
  {
   "cell_type": "markdown",
   "id": "0e56930c",
   "metadata": {},
   "source": [
    "<details>\n",
    "  <summary><font size=\"3\" color=\"darkgreen\"><b>Hints</b></font></summary>\n",
    "    \n",
    " \n",
    "   * Code\n",
    "        ```python \n",
    "            # replace nan with col means\n",
    "            res = np.where(np.isnan(ini_array), np.ma.array(ini_arr,\n",
    "                           mask = np.isnan(ini_arr)).mean(axis = 0), ini_arr)\n",
    "        ```\n",
    "</details>"
   ]
  },
  {
   "cell_type": "code",
   "execution_count": null,
   "id": "2eededf5",
   "metadata": {},
   "outputs": [],
   "source": []
  }
 ],
 "metadata": {
  "kernelspec": {
   "display_name": "Python 3 (ipykernel)",
   "language": "python",
   "name": "python3"
  },
  "language_info": {
   "codemirror_mode": {
    "name": "ipython",
    "version": 3
   },
   "file_extension": ".py",
   "mimetype": "text/x-python",
   "name": "python",
   "nbconvert_exporter": "python",
   "pygments_lexer": "ipython3",
   "version": "3.11.2"
  },
  "widgets": {
   "application/vnd.jupyter.widget-state+json": {
    "state": {},
    "version_major": 2,
    "version_minor": 0
   }
  }
 },
 "nbformat": 4,
 "nbformat_minor": 5
}
