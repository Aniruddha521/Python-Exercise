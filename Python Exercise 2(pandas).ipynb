{
 "cells": [
  {
   "cell_type": "markdown",
   "id": "8bc40b23",
   "metadata": {},
   "source": [
    "# Objectives\n",
    "  In this Exercise you will given some basic questions on python library(pandas) which have a vast use in Machine learning and Data science.\n",
    "  \n",
    "  \n",
    "This exercise Aim's:\n",
    "  - To test your knowledge in the library.\n",
    "  - Your understanding and ability to effictively apply you knowledge.\n",
    "  - Provided `Hints` and written cells so if you missed somethings then you can brush it up.\n",
    "  > Note: If you want to explore more about any function then you just simply need to click the highlighted functions, It will directly take you to the official documantation where you can read more about them."
   ]
  },
  {
   "cell_type": "markdown",
   "id": "ef368ae0",
   "metadata": {},
   "source": [
    "## Contents\n",
    "- [ 1 - Packages ](#1)\n",
    "- [ 2 - Introduction to pandas](#2)\n",
    "  - [ 2.1 What is Pandas?](#2.1)\n",
    "  - [ 2.2 Why Use Pandas?](#2.2)\n",
    "  - [ 2.3  What Can Pandas Do?](#2.3)\n",
    "- [ 3 - Questions](#3)\n",
    "  - [ 3.1 Create a pandas column using for loop](#3.1)\n",
    "  - [ 3.2 Remove Unwanted columns](#3.2)\n",
    "  - [ 3.3  Print number of unique value in every column](#3.3)"
   ]
  },
  {
   "cell_type": "markdown",
   "id": "9edb897a",
   "metadata": {},
   "source": [
    "<a name=\"1\"></a>\n",
    "## 1 - Packages \n",
    "\n",
    "First, let's run the cell below to import all the packages that you will need during this assignment.\n",
    "- [pandas](https://pandas.pydata.org/docs/) is a Python library used for working with data sets."
   ]
  },
  {
   "cell_type": "code",
   "execution_count": null,
   "id": "305654c4",
   "metadata": {},
   "outputs": [],
   "source": [
    "# Import all required libraries\n",
    "import pandas\n",
    "import numpy"
   ]
  },
  {
   "cell_type": "markdown",
   "id": "52438884",
   "metadata": {},
   "source": [
    "<a name=\"2\"></a>\n",
    "# 2-Introduction to pandas<img align=\"left\" src=\"https://geo-python-site.readthedocs.io/en/latest/_images/pandas_logo.png\" style=\" width:60px;  \" >\n",
    "Pandas is an open-source library in Python that is made mainly for working with relational or labeled data both easily and intuitively. It provides various data structures and operations for manipulating numerical data and time series. This library is built on top of the [numpy](www.numpy.org) library of Python. Pandas is fast and it has high performance & productivity for users.\n",
    "\n",
    "\n",
    "Prior to Pandas, Python was majorly used for data munging and preparation. It had very little contribution towards data analysis. Pandas solved this problem. Using Pandas, we can accomplish five typical steps in the processing and analysis of data, regardless of the origin of data — load, prepare, manipulate, model, and analyze.\n",
    "\n",
    "Python with Pandas is used in a wide range of fields including academic and commercial domains including finance, economics, Statistics, analytics, etc.\n",
    "<a name=\"2.1\"></a>\n",
    "## 2.1-What is pandas?\n",
    "Pandas is a Python library used for working with data sets.\n",
    "It has functions for analyzing, cleaning, exploring, and manipulating data.\n",
    "The name \"Pandas\" has a reference to both \"Panel Data\", and \"Python Data Analysis\" and was created by Wes McKinney in 2008.\n",
    "<a name=\"2.2\"></a>\n",
    "## 2.2 -Why Use Pandas?\n",
    "Pandas allows us to analyze big data and make conclusions based on statistical theories.\n",
    "Pandas can clean messy data sets, and make them readable and relevant.\n",
    "Relevant data is very important in data science.\n",
    "<a name=\"2.3\"></a>\n",
    "## 2.3 -What Can Pandas Do?\n",
    "Pandas gives you answers about the data. Like:\n",
    " * Is there a correlation between two or more columns?\n",
    " * What is average value?\n",
    " * Max value?\n",
    " * Min value?\n",
    " \n",
    "Pandas are also able to delete rows that are not relevant, or contains wrong values, like empty or NULL values. This is called cleaning the data."
   ]
  },
  {
   "cell_type": "markdown",
   "id": "68c805a4",
   "metadata": {},
   "source": [
    "# 3 -Questions<img align=\"left\" src=\"data:image/jpeg;base64,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\" style=\" width:40px;  \" >"
   ]
  },
  {
   "cell_type": "markdown",
   "id": "01991deb",
   "metadata": {},
   "source": [
    "<a name=\"3.1\"></a>\n",
    "## 3.1 -Create a pandas column using for loop"
   ]
  },
  {
   "cell_type": "code",
   "execution_count": null,
   "id": "cd9613e2",
   "metadata": {},
   "outputs": [],
   "source": [
    "# Add a column name pass and fill it with True and False if a student score more than equal to 50 then he/she is pass\n",
    "# If any student is not allocated any marks then fill their re-Exam\n",
    "raw_Data = {'Student_name': ['student1', 'student2', 'student3', 'student4', \n",
    "                           'student5', 'student6', 'student7', 'student8'], \n",
    "            'Student_Marks': [98, 60, 50, 47, np.NaN, 54, 42, np.NaN]}\n",
    "\n",
    "df = pd.DataFrame(raw_Data, columns = ['Voter_name', 'Voter_age'])\n",
    "result = []\n",
    "# Start your code here\n",
    "\n",
    "\n",
    "\n",
    "\n",
    "\n",
    "# End your code\n",
    "\n",
    "print(df)"
   ]
  },
  {
   "cell_type": "markdown",
   "id": "0b573439",
   "metadata": {},
   "source": [
    "<details>\n",
    "  <summary><font size=\"3\" color=\"darkgreen\"><b>Hints</b></font></summary>\n",
    "    \n",
    "   * Here by applying the following code you will get the desired output\n",
    "   ```python\n",
    "   for marks in df['Student_Marks']:       \n",
    "       if marks >= 50:\n",
    "           result.append(True)             # Students who passed\n",
    "       elif marks <50:\n",
    "           result.append(False)            # Students who didn't passed\n",
    "       else:\n",
    "           result.append(\"re-Exam\")        # Students who didn't appear for exam\n",
    "   df['pass']=result\n",
    "   ```\n",
    "</details>"
   ]
  },
  {
   "cell_type": "markdown",
   "id": "4307b422",
   "metadata": {},
   "source": [
    "## 3.2 -Remove Unwanted columns"
   ]
  },
  {
   "cell_type": "code",
   "execution_count": null,
   "id": "07053564",
   "metadata": {},
   "outputs": [],
   "source": [
    "# Remove the Name, Cabin and PassengerId columns fron the dataset\n",
    "\n",
    "\n",
    "\n"
   ]
  },
  {
   "cell_type": "markdown",
   "id": "5a84f141",
   "metadata": {},
   "source": [
    "<details>\n",
    "  <summary><font size=\"3\" color=\"darkgreen\"><b>Hints</b></font></summary>\n",
    "       \n",
    "   * The [`dataframe.drop()`](https://pandas.pydata.org/docs/reference/api/pandas.DataFrame.drop.html) method removes the specified row or column.\n",
    "    \n",
    "       * By specifying the column axis (axis=0), the drop() method removes the specified column.\n",
    "    \n",
    "       * By specifying the row axis (axis=0), the drop() method removes the specified row\n",
    "</details>"
   ]
  },
  {
   "cell_type": "markdown",
   "id": "ed362414",
   "metadata": {},
   "source": [
    "## 3.3 -Print number of unique value in every column"
   ]
  },
  {
   "cell_type": "code",
   "execution_count": null,
   "id": "e756c6ea",
   "metadata": {},
   "outputs": [],
   "source": [
    "# Print number of unique value in every column\n",
    "\n"
   ]
  },
  {
   "cell_type": "markdown",
   "id": "2f5019d2",
   "metadata": {},
   "source": [
    "<details>\n",
    "  <summary><font size=\"3\" color=\"darkgreen\"><b>Hints</b></font></summary>\n",
    "       \n",
    "   * This function [`dataframe.nunique()`](https://pandas.pydata.org/docs/reference/api/pandas.DataFrame.nunique.html)\n",
    "    Count number of distinct elements in specified axis.Return Series with number of distinct elements. Can ignore NaN values.\n",
    "</details>"
   ]
  },
  {
   "cell_type": "code",
   "execution_count": null,
   "id": "d833db3a",
   "metadata": {},
   "outputs": [],
   "source": []
  }
 ],
 "metadata": {
  "kernelspec": {
   "display_name": "Python 3 (ipykernel)",
   "language": "python",
   "name": "python3"
  },
  "language_info": {
   "codemirror_mode": {
    "name": "ipython",
    "version": 3
   },
   "file_extension": ".py",
   "mimetype": "text/x-python",
   "name": "python",
   "nbconvert_exporter": "python",
   "pygments_lexer": "ipython3",
   "version": "3.8.10"
  }
 },
 "nbformat": 4,
 "nbformat_minor": 5
}
