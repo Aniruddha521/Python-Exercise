{
 "cells": [
  {
   "cell_type": "markdown",
   "id": "20ae3265",
   "metadata": {},
   "source": [
    "# Objective\n",
    "Unlike other exercise it is just for informative purpose, in this exercise you don't have to write any code just run the cells given and learn about the library\n",
    "\n",
    "\n"
   ]
  },
  {
   "cell_type": "markdown",
   "id": "7f0de905",
   "metadata": {},
   "source": [
    "# Contents\n",
    "- [ 1 - Creating Graph and running it in a session](#1)\n",
    "- [ 2 - Managing Graphs](#2)\n",
    "- [ 3 - Lifecycle of a Node Value](#3)\n",
    "- [ 4 - Creating Graph and running it in a session](#4)\n",
    "- [ 5 - Linear Regression with Tensorflow](#5)\n",
    "- [ 6 - Implementing Gradient Descent](#6)\n",
    "    - [ 6.1 - Manually Computting Gradient](#6.1)\n",
    "    - [ 6.2 - Using Autodiff](#6.2)\n",
    "    - [ 6.3 - Using an Optimizer](#6.3)\n",
    "- [ 7 - Feeding Data to the Training Algorithm](#7)\n",
    "- [ 8 - Saving and Restoring Models](#8)\n",
    "- [ 9 - Visualizing the Graphs and Training Curves Using TensorBoard](#9)"
   ]
  },
  {
   "cell_type": "markdown",
   "id": "4ef8228d",
   "metadata": {},
   "source": [
    "<img src='image-1587548990037-a9dc244b868173eb48df437eedc72910.gif' frameborder='0' scrolling='no' allowfullscreen width='640' height='412'></img>"
   ]
  },
  {
   "cell_type": "code",
   "execution_count": null,
   "id": "b056beee",
   "metadata": {},
   "outputs": [],
   "source": []
  }
 ],
 "metadata": {
  "kernelspec": {
   "display_name": "Python 3 (ipykernel)",
   "language": "python",
   "name": "python3"
  },
  "language_info": {
   "codemirror_mode": {
    "name": "ipython",
    "version": 3
   },
   "file_extension": ".py",
   "mimetype": "text/x-python",
   "name": "python",
   "nbconvert_exporter": "python",
   "pygments_lexer": "ipython3",
   "version": "3.8.10"
  }
 },
 "nbformat": 4,
 "nbformat_minor": 5
}
